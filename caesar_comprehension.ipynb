{
 "cells": [
  {
   "metadata": {},
   "cell_type": "markdown",
   "source": "Let's try creating a Caesar cipher using Python. We'll use the `ascii_lowercase` constant from the `string` library rather than fiddling around with `ascii` codes. We also need to decide how much of a `shift` to use.",
   "id": "3b61937691bc09c4"
  },
  {
   "metadata": {
    "ExecuteTime": {
     "end_time": "2025-10-08T21:06:28.125223Z",
     "start_time": "2025-10-08T21:06:28.122684Z"
    }
   },
   "cell_type": "code",
   "source": [
    "import string\n",
    "\n",
    "ASCII_LOWERCASE = string.ascii_lowercase\n",
    "\n",
    "shift = 7\n",
    "\n",
    "plaintext = 'please encode me'"
   ],
   "id": "adf331e771e3c12e",
   "outputs": [],
   "execution_count": 6
  },
  {
   "metadata": {},
   "cell_type": "markdown",
   "source": "Let's encrypt using the traditional looping approach.",
   "id": "4546b000d92259b5"
  },
  {
   "metadata": {
    "ExecuteTime": {
     "end_time": "2025-10-08T21:09:19.455698Z",
     "start_time": "2025-10-08T21:09:19.452256Z"
    }
   },
   "cell_type": "code",
   "source": [
    "ciphertext = ''\n",
    "\n",
    "for plain_char in plaintext:\n",
    "    if plain_char in ASCII_LOWERCASE:\n",
    "\n",
    "        pc_pos = ASCII_LOWERCASE.index(plain_char)\n",
    "\n",
    "        ec_pos = pc_pos + shift\n",
    "\n",
    "        if ec_pos >= len(ASCII_LOWERCASE):\n",
    "            ec_pos -= len(ASCII_LOWERCASE)\n",
    "\n",
    "        ciphertext += ASCII_LOWERCASE[ec_pos]\n",
    "\n",
    "    else:\n",
    "        ciphertext += plain_char\n",
    "\n",
    "ciphertext\n",
    "\n"
   ],
   "id": "eabf0f78e7283617",
   "outputs": [
    {
     "data": {
      "text/plain": [
       "'wslhzl lujvkl tl'"
      ]
     },
     "execution_count": 9,
     "metadata": {},
     "output_type": "execute_result"
    }
   ],
   "execution_count": 9
  },
  {
   "metadata": {},
   "cell_type": "markdown",
   "source": "Now let's see how we can approach this using some cunning list comprehension. The hardest bit is to think how to encode the shift using list comprehension. First approach is using standard list 'slicing'...",
   "id": "24aa7af506a89fa8"
  },
  {
   "metadata": {
    "ExecuteTime": {
     "end_time": "2025-10-08T21:18:39.794942Z",
     "start_time": "2025-10-08T21:18:39.790669Z"
    }
   },
   "cell_type": "code",
   "source": [
    "shifted_ascii_lowercase =  ASCII_LOWERCASE[shift:] +  ASCII_LOWERCASE[:shift]\n",
    "\n",
    "shifted_ascii_lowercase"
   ],
   "id": "6d2da8f55805fd82",
   "outputs": [
    {
     "data": {
      "text/plain": [
       "'hijklmnopqrstuvwxyzabcdefg'"
      ]
     },
     "execution_count": 19,
     "metadata": {},
     "output_type": "execute_result"
    }
   ],
   "execution_count": 19
  },
  {
   "metadata": {},
   "cell_type": "markdown",
   "source": "There's now a clunky way to do this using a comprehension. There is better to come later...",
   "id": "44f0742aebe968cb"
  },
  {
   "metadata": {
    "ExecuteTime": {
     "end_time": "2025-10-08T21:18:41.882141Z",
     "start_time": "2025-10-08T21:18:41.878669Z"
    }
   },
   "cell_type": "code",
   "source": [
    "ciphertext = ''.join(\n",
    "    shifted_ascii_lowercase[\n",
    "        ASCII_LOWERCASE.index(c)\n",
    "    ]\n",
    "    if c in ASCII_LOWERCASE\n",
    "    else c\n",
    "    for c in plaintext\n",
    ")\n",
    "ciphertext"
   ],
   "id": "7b856d3db11d8043",
   "outputs": [
    {
     "data": {
      "text/plain": [
       "'wslhzl lujvkl tl'"
      ]
     },
     "execution_count": 20,
     "metadata": {},
     "output_type": "execute_result"
    }
   ],
   "execution_count": 20
  },
  {
   "metadata": {},
   "cell_type": "markdown",
   "source": "This is really just our loop in disguise. You can pretty much see how they match, and the comprehension is pretty nasty. We can improve things by using our knowledge of dictionaries to tidy things - two stages seem sensible.",
   "id": "976ce4f86656690e"
  },
  {
   "metadata": {
    "ExecuteTime": {
     "end_time": "2025-10-08T21:31:20.406374Z",
     "start_time": "2025-10-08T21:31:20.399417Z"
    }
   },
   "cell_type": "code",
   "source": [
    "caesar_dict = dict(\n",
    "    zip(\n",
    "        ASCII_LOWERCASE, shifted_ascii_lowercase\n",
    "    )\n",
    ")\n",
    "\n",
    "caesar_dict"
   ],
   "id": "6c978a65e7c6f871",
   "outputs": [
    {
     "data": {
      "text/plain": [
       "{'a': 'h',\n",
       " 'b': 'i',\n",
       " 'c': 'j',\n",
       " 'd': 'k',\n",
       " 'e': 'l',\n",
       " 'f': 'm',\n",
       " 'g': 'n',\n",
       " 'h': 'o',\n",
       " 'i': 'p',\n",
       " 'j': 'q',\n",
       " 'k': 'r',\n",
       " 'l': 's',\n",
       " 'm': 't',\n",
       " 'n': 'u',\n",
       " 'o': 'v',\n",
       " 'p': 'w',\n",
       " 'q': 'x',\n",
       " 'r': 'y',\n",
       " 's': 'z',\n",
       " 't': 'a',\n",
       " 'u': 'b',\n",
       " 'v': 'c',\n",
       " 'w': 'd',\n",
       " 'x': 'e',\n",
       " 'y': 'f',\n",
       " 'z': 'g'}"
      ]
     },
     "execution_count": 21,
     "metadata": {},
     "output_type": "execute_result"
    }
   ],
   "execution_count": 21
  },
  {
   "metadata": {},
   "cell_type": "markdown",
   "source": "Our comprehension can then just use the dictionary.",
   "id": "5b145e383ca2b0ea"
  },
  {
   "metadata": {
    "ExecuteTime": {
     "end_time": "2025-10-08T21:34:22.487832Z",
     "start_time": "2025-10-08T21:34:22.481449Z"
    }
   },
   "cell_type": "code",
   "source": [
    "ciphertext = ''.join(\n",
    "    caesar_dict[c]\n",
    "    if c in caesar_dict\n",
    "    else c\n",
    "    for c in plaintext\n",
    ")\n",
    "\n",
    "ciphertext"
   ],
   "id": "34b7db66565439ff",
   "outputs": [
    {
     "data": {
      "text/plain": [
       "'wslhzl lujvkl tl'"
      ]
     },
     "execution_count": 22,
     "metadata": {},
     "output_type": "execute_result"
    }
   ],
   "execution_count": 22
  },
  {
   "metadata": {},
   "cell_type": "markdown",
   "source": "There is a slightly more elegant way of doing this, but we do need to use the dreaded `lambda` function!",
   "id": "1560957e47cecd4"
  },
  {
   "metadata": {
    "ExecuteTime": {
     "end_time": "2025-10-08T21:37:35.196395Z",
     "start_time": "2025-10-08T21:37:35.193778Z"
    }
   },
   "cell_type": "code",
   "source": [
    "ciphertext = ''.join(\n",
    "    map(\n",
    "        lambda c: caesar_dict[c] if c in caesar_dict else c,\n",
    "        plaintext,\n",
    "    )\n",
    ")"
   ],
   "id": "1869c848f21092b1",
   "outputs": [],
   "execution_count": 23
  },
  {
   "metadata": {},
   "cell_type": "markdown",
   "source": "You can probably see how the `map` function works here. It applies the given function (our lambda) to every element of plaintext. `map` and `zip` are very neat functional tricks to do things with existing lists. `zip` works like a zipper on your clothing - it creates ordered pairs from two lists (or anything else that it can iterate).",
   "id": "21627837d3d188e5"
  },
  {
   "metadata": {
    "ExecuteTime": {
     "end_time": "2025-10-08T21:41:43.690970Z",
     "start_time": "2025-10-08T21:41:43.687094Z"
    }
   },
   "cell_type": "code",
   "source": "list(zip('apple', range(5)))",
   "id": "9fd7b08ecf7308f6",
   "outputs": [
    {
     "data": {
      "text/plain": [
       "[('a', 0), ('p', 1), ('p', 2), ('l', 3), ('e', 4)]"
      ]
     },
     "execution_count": 25,
     "metadata": {},
     "output_type": "execute_result"
    }
   ],
   "execution_count": 25
  },
  {
   "metadata": {},
   "cell_type": "markdown",
   "source": "Here I've converted the `zip` object into a list, but equally we can create a dictionary:",
   "id": "d532f0300b163ef6"
  },
  {
   "metadata": {
    "ExecuteTime": {
     "end_time": "2025-10-08T21:42:52.588331Z",
     "start_time": "2025-10-08T21:42:52.585057Z"
    }
   },
   "cell_type": "code",
   "source": "dict(zip('apple', range(5)))",
   "id": "e72361c85b65ac2a",
   "outputs": [
    {
     "data": {
      "text/plain": [
       "{'a': 0, 'p': 2, 'l': 3, 'e': 4}"
      ]
     },
     "execution_count": 26,
     "metadata": {},
     "output_type": "execute_result"
    }
   ],
   "execution_count": 26
  },
  {
   "metadata": {},
   "cell_type": "markdown",
   "source": "The other slightly inelegant part was my using python slicing to effect the shift:",
   "id": "593367ed12167352"
  },
  {
   "metadata": {
    "ExecuteTime": {
     "end_time": "2025-10-08T21:46:37.309918Z",
     "start_time": "2025-10-08T21:46:37.305428Z"
    }
   },
   "cell_type": "code",
   "source": [
    "shifted_ascii_lowercase = ASCII_LOWERCASE[shift:] + ASCII_LOWERCASE[:shift]\n",
    "\n",
    "shifted_ascii_lowercase"
   ],
   "id": "e456e6aca591e2dd",
   "outputs": [
    {
     "data": {
      "text/plain": [
       "'hijklmnopqrstuvwxyzabcdefg'"
      ]
     },
     "execution_count": 29,
     "metadata": {},
     "output_type": "execute_result"
    }
   ],
   "execution_count": 29
  },
  {
   "metadata": {},
   "cell_type": "markdown",
   "source": "There are more elegant ways to do this, but we need to use a new data structure that can be rotated: the so-called 'double ended queue' or `deque`:",
   "id": "2e3dd304f525ffd6"
  },
  {
   "metadata": {
    "ExecuteTime": {
     "end_time": "2025-10-08T21:48:58.431958Z",
     "start_time": "2025-10-08T21:48:58.426589Z"
    }
   },
   "cell_type": "code",
   "source": [
    "from collections import deque\n",
    "\n",
    "shifted_ascii_lowercase = deque(ASCII_LOWERCASE)\n",
    "shifted_ascii_lowercase.rotate(shift)\n",
    "\n",
    "shifted_ascii_lowercase"
   ],
   "id": "321e9cf13319d94e",
   "outputs": [
    {
     "data": {
      "text/plain": [
       "deque(['t',\n",
       "       'u',\n",
       "       'v',\n",
       "       'w',\n",
       "       'x',\n",
       "       'y',\n",
       "       'z',\n",
       "       'a',\n",
       "       'b',\n",
       "       'c',\n",
       "       'd',\n",
       "       'e',\n",
       "       'f',\n",
       "       'g',\n",
       "       'h',\n",
       "       'i',\n",
       "       'j',\n",
       "       'k',\n",
       "       'l',\n",
       "       'm',\n",
       "       'n',\n",
       "       'o',\n",
       "       'p',\n",
       "       'q',\n",
       "       'r',\n",
       "       's'])"
      ]
     },
     "execution_count": 32,
     "metadata": {},
     "output_type": "execute_result"
    }
   ],
   "execution_count": 32
  },
  {
   "metadata": {
    "ExecuteTime": {
     "end_time": "2025-10-08T22:01:01.974040Z",
     "start_time": "2025-10-08T22:01:01.967737Z"
    }
   },
   "cell_type": "code",
   "source": [
    "caesar_dict = dict(\n",
    "    zip(\n",
    "        ASCII_LOWERCASE,\n",
    "        shifted_ascii_lowercase\n",
    "    )\n",
    ")\n",
    "\n",
    "caesar_dict"
   ],
   "id": "8bf65163d0a2eeaf",
   "outputs": [
    {
     "data": {
      "text/plain": [
       "{'a': 't',\n",
       " 'b': 'u',\n",
       " 'c': 'v',\n",
       " 'd': 'w',\n",
       " 'e': 'x',\n",
       " 'f': 'y',\n",
       " 'g': 'z',\n",
       " 'h': 'a',\n",
       " 'i': 'b',\n",
       " 'j': 'c',\n",
       " 'k': 'd',\n",
       " 'l': 'e',\n",
       " 'm': 'f',\n",
       " 'n': 'g',\n",
       " 'o': 'h',\n",
       " 'p': 'i',\n",
       " 'q': 'j',\n",
       " 'r': 'k',\n",
       " 's': 'l',\n",
       " 't': 'm',\n",
       " 'u': 'n',\n",
       " 'v': 'o',\n",
       " 'w': 'p',\n",
       " 'x': 'q',\n",
       " 'y': 'r',\n",
       " 'z': 's'}"
      ]
     },
     "execution_count": 33,
     "metadata": {},
     "output_type": "execute_result"
    }
   ],
   "execution_count": 33
  },
  {
   "metadata": {},
   "cell_type": "code",
   "outputs": [],
   "execution_count": null,
   "source": "",
   "id": "b0e94ab93a57d26b"
  }
 ],
 "metadata": {
  "kernelspec": {
   "display_name": "Python 3",
   "language": "python",
   "name": "python3"
  },
  "language_info": {
   "codemirror_mode": {
    "name": "ipython",
    "version": 2
   },
   "file_extension": ".py",
   "mimetype": "text/x-python",
   "name": "python",
   "nbconvert_exporter": "python",
   "pygments_lexer": "ipython2",
   "version": "2.7.6"
  }
 },
 "nbformat": 4,
 "nbformat_minor": 5
}
